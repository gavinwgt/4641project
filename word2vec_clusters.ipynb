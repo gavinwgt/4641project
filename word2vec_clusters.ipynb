{
 "cells": [
  {
   "cell_type": "code",
   "execution_count": null,
   "metadata": {},
   "outputs": [],
   "source": [
    "from gensim.models import KeyedVectors\n",
    "\n",
    "# Load vectors directly from the file\n",
    "model = KeyedVectors.load_word2vec_format('GoogleNews-vectors-negative300.bin', binary=True)"
   ]
  },
  {
   "cell_type": "code",
   "execution_count": null,
   "metadata": {},
   "outputs": [],
   "source": [
    "import string\n",
    "import numpy as np\n",
    "\n",
    "def create_lyric_matrix():\n",
    "\n",
    "    # Stop words to exclude\n",
    "    stop_words = stopwords = ['i', 'id', 'me', 'my', 'myself', 'we', 'our', 'ours', 'ourselves', 'you', 'yall', 'yalls', \"youre\", \"youve\", \"youll\", \"youd\", 'your', 'yours', 'yourself', 'yourselves', 'he', 'hes', 'him', 'his', 'himself', 'she', \"shes\", 'her', 'hers', 'herself', 'it', 'its', 'itself', 'they', 'them', 'em', 'their', 'theirs', 'themselves', 'what', 'which', 'who', 'whom', 'this', 'that', \"thatll\", 'these', 'those', 'am', 'is', 'are', 'was', 'were', 'be', 'been', 'being', 'have', 'has', 'had', 'having', 'got', 'gotta', 'do', 'does', 'did', 'doing', 'a', 'an', 'the', 'and', 'but', 'if', 'or', 'because', 'because', 'as', 'until', 'til', 'while', 'of', 'at', 'by', 'for', 'with', 'about', 'bout', 'against', 'between', 'into', 'through', 'during', 'before', 'after', 'above', 'below', 'to', 'from', 'up', 'down', 'in', 'out', 'on', 'off', 'over', 'under', 'again', 'further', 'then', 'once', 'here', 'there', 'theres', 'when', 'where', 'why', 'how', 'all', 'any', 'both', 'each', 'few', 'more', 'most', 'other', 'some', 'such', 'no', 'nor', 'not', 'only', 'own', 'same', 'so', 'than', 'too', 'very', 'can', 'will', 'just', \"dont\", 'should', \"shouldve\", 'now', 'aint', 'arent', 'couldnt', \"didnt\", \"doesnt\", \"hadnt\", \"hasnt\", \"havent\", \"isnt\", \"mightnt\", \"mustnt\", \"neednt\", \"shant\", 'shouldnt']\n",
    "    nums = \"0123456789\"\n",
    "\n",
    "    # Define the directory containing the text files\n",
    "    directory = 'lyrics'\n",
    "\n",
    "    # Initialize a dictionary to store embed-vector to word mappings\n",
    "    lyric_embeddings = {}\n",
    "    \n",
    "    # Empty array to add word vectors to\n",
    "    lyric_matrix = np.array([]).reshape(0,300)\n",
    "\n",
    "    # Iterate over the files in the directory\n",
    "    for filename in os.listdir(directory):\n",
    "        if filename.endswith('.txt'):  # Consider only .txt files\n",
    "            file_path = os.path.join(directory, filename)\n",
    "\n",
    "            # Read the text file\n",
    "            with open(file_path, 'r', encoding='utf-8') as file:\n",
    "                lines = file.readlines()\n",
    "\n",
    "            for line in lines[1:]:\n",
    "                # Cleaning up the data\n",
    "                if '[' or ']' in line:\n",
    "                    continue\n",
    "                if 'embed' in line:\n",
    "                    line = re.sub(r'\\b\\d+embed$', '', line)\n",
    "\n",
    "                line = line.replace(\"in’\", \"ing\")\n",
    "                translator = str.maketrans('', '', string.punctuation)\n",
    "                no_punctuation = line.translate(translator)\n",
    "                words = no_punctuation.strip().lower().split()\n",
    "\n",
    "                # Obtain vector and add to dictionary: we will use this to obtain words from our clusters\n",
    "                for word in words:\n",
    "                    if word not in stop_words and len(word) > 1:\n",
    "                        vector = model[word]\n",
    "                        lyric_embeddings[vector] = word\n",
    "                        lyric_matrix = np.vstack([lyric_matrix, vector])\n",
    "\n",
    "    return lyric_matrix, lyric_embeddings"
   ]
  },
  {
   "cell_type": "code",
   "execution_count": null,
   "metadata": {},
   "outputs": [],
   "source": [
    "from sklearn.cluster import KMeans\n",
    "\n",
    "#Obtain word vector data\n",
    "km_matrix, dictionary = create_lyric_matrix()\n",
    "\n",
    "#Perform K-means\n",
    "kmeans = KMeans(n_clusters=2)\n",
    "kmeans.fit(km_matrix)\n",
    "\n",
    "labels = kmeans.labels_\n",
    "centroids = kmeans.cluster_centers_\n",
    "\n",
    "print(\"Labels:\", labels)\n",
    "print(\"Centroids:\", centroids)"
   ]
  },
  {
   "cell_type": "code",
   "execution_count": null,
   "metadata": {},
   "outputs": [],
   "source": [
    "from sklearn.mixture import GaussianMixture\n",
    "\n",
    "#Obtain word vector data\n",
    "gmm_matrix, dictionary = create_lyric_matrix()\n",
    "\n",
    "#Perform GMM estimate\n",
    "gmm = GaussianMixture(n_components=2)\n",
    "gmm.fit(gmm_matrix)\n",
    "\n",
    "labels = gmm.predict(gmm_matrix)\n",
    "means = gmm.means_\n",
    "covariances = gmm.covariances_\n",
    "\n",
    "print(\"Labels:\", labels)\n",
    "print(\"Means:\", means)\n",
    "print(\"Covariances:\", covariances)"
   ]
  },
  {
   "cell_type": "code",
   "execution_count": null,
   "metadata": {},
   "outputs": [],
   "source": [
    "from sklearn.cluster import DBSCAN\n",
    "\n",
    "#Obtain word vector data\n",
    "db_matrix, dictionary = create_lyric_matrix()\n",
    "\n",
    "#Perform DBScan\n",
    "dbscan = DBSCAN(eps=3, min_samples=2)\n",
    "dbscan.fit(db_matrix)\n",
    "\n",
    "labels = dbscan.labels_\n",
    "\n",
    "print(\"Labels:\", labels)"
   ]
  }
 ],
 "metadata": {
  "language_info": {
   "name": "python"
  },
  "orig_nbformat": 4
 },
 "nbformat": 4,
 "nbformat_minor": 2
}
