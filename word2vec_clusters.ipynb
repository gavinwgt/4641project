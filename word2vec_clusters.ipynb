{
 "cells": [
  {
   "cell_type": "code",
   "execution_count": null,
   "metadata": {},
   "outputs": [],
   "source": [
    "!pip install gensim"
   ]
  },
  {
   "cell_type": "code",
   "execution_count": null,
   "metadata": {},
   "outputs": [],
   "source": [
    "from gensim.models import KeyedVectors\n",
    "import os\n",
    "\n",
    "path = os.path.join('C:', os.sep, 'Users', 'Gavin', 'Downloads', 'CS4641', 'Project', 'GoogleNews-vectors-negative300.bin')\n",
    "\n",
    "# Load vectors directly from the file\n",
    "model = KeyedVectors.load_word2vec_format(path, binary=True)"
   ]
  },
  {
   "cell_type": "code",
   "execution_count": null,
   "metadata": {},
   "outputs": [],
   "source": [
    "import string\n",
    "import numpy as np\n",
    "import re\n",
    "\n",
    "def create_lyric_matrix():\n",
    "    # Stop words to exclude\n",
    "    stop_words = ['i', 'id', 'me', 'my', 'myself', 'we', 'our', 'ours', 'ourselves', 'you', 'yall', 'yalls', \"youre\", \"youve\", \"youll\", \"youd\", 'your', 'yours', 'yourself', 'yourselves', 'he', 'hes', 'him', 'his', 'himself', 'she', \"shes\", 'her', 'hers', 'herself', 'it', 'its', 'itself', 'they', 'them', 'em', 'their', 'theirs', 'themselves', 'what', 'which', 'who', 'whom', 'this', 'that', \"thatll\", 'these', 'those', 'am', 'is', 'are', 'was', 'were', 'be', 'been', 'being', 'have', 'has', 'had', 'having', 'got', 'gotta', 'do', 'does', 'did', 'doing', 'a', 'an', 'the', 'and', 'but', 'if', 'or', 'because', 'because', 'as', 'until', 'til', 'while', 'of', 'at', 'by', 'for', 'with', 'about', 'bout', 'against', 'between', 'into', 'through', 'during', 'before', 'after', 'above', 'below', 'to', 'from', 'up', 'down', 'in', 'out', 'on', 'off', 'over', 'under', 'again', 'further', 'then', 'once', 'here', 'there', 'theres', 'when', 'where', 'why', 'how', 'all', 'any', 'both', 'each', 'few', 'more', 'most', 'other', 'some', 'such', 'no', 'nor', 'not', 'only', 'own', 'same', 'so', 'than', 'too', 'very', 'can', 'will', 'just', \"dont\", 'should', \"shouldve\", 'now', 'aint', 'arent', 'couldnt', \"didnt\", \"doesnt\", \"hadnt\", \"hasnt\", \"havent\", \"isnt\", \"mightnt\", \"mustnt\", \"neednt\", \"shant\", 'shouldnt']\n",
    "    nums = \"0123456789\"\n",
    "\n",
    "    # Define the directory containing the text files\n",
    "    directory = os.path.join('C:', os.sep, 'Users', 'Gavin', 'Downloads', 'CS4641', 'Project', '4641project', 'lyrics')\n",
    "    print(directory)\n",
    "\n",
    "    # Initialize a dictionary to store embed-vector to word mappings\n",
    "    lyric_embeddings = {}\n",
    "\n",
    "    # Empty array to add word vectors to\n",
    "    lyric_matrix = np.array([]).reshape(0,300)\n",
    "\n",
    "    # Dictionary for word frequency of each song (given by filename):\n",
    "    word_frequencies = {}\n",
    "\n",
    "    # Iterate over the files in the directory\n",
    "    for filename in os.listdir(directory):\n",
    "        iter = 0\n",
    "        if filename.endswith('.txt'):  # Consider only .txt files\n",
    "            file_path = os.path.join(directory, filename)\n",
    "            wordfreq = defaultdict(int)\n",
    "            # Read the text file\n",
    "            with open(file_path, 'r', encoding='utf-8') as file:\n",
    "                lines = file.readlines()\n",
    "            for line in lines[1:]:\n",
    "                # Cleaning up the data\n",
    "                if '[' in line or ']' in line:\n",
    "                    continue\n",
    "                if 'Embed' in line:\n",
    "                    line = line.replace('Embed', '')\n",
    "                    try:\n",
    "                        while line[-1] in nums:\n",
    "                            line = line.replace(line[-1], '')\n",
    "                    except IndexError:\n",
    "                        continue\n",
    "                line = line.replace(\"in’\", \"ing\")\n",
    "                translator = str.maketrans('', '', string.punctuation)\n",
    "                no_punctuation = line.translate(translator)\n",
    "                words = no_punctuation.strip().lower().split()\n",
    "                # Obtain vector and add to dictionaries: we will use this to obtain words from our clusters and frequencies\n",
    "                for word in words:\n",
    "                    if word not in stop_words and len(word) > 1:\n",
    "                        wordfreq[word] += 1\n",
    "                        if word not in lyric_embeddings:\n",
    "                            try:\n",
    "                                vector = model[word]\n",
    "                                lyric_embeddings[word] = vector\n",
    "                                lyric_matrix = np.vstack([lyric_matrix, vector])\n",
    "                            except KeyError:\n",
    "                                continue\n",
    "            word_frequencies[file_path] = wordfreq\n",
    "    #Function returns the lyric dataset for clustering (NumPy array), a dictionary the maps words to their vector, and a dictionary to obtain word frequency\n",
    "    return lyric_matrix, lyric_embeddings, word_frequencies"
   ]
  },
  {
   "cell_type": "code",
   "execution_count": null,
   "metadata": {},
   "outputs": [],
   "source": [
    "!pip install scikit-learn"
   ]
  },
  {
   "cell_type": "code",
   "execution_count": null,
   "metadata": {},
   "outputs": [],
   "source": [
    "from sklearn.cluster import KMeans\n",
    "\n",
    "#Obtain word vector data\n",
    "km_matrix, dictionary, frequencies = create_lyric_matrix()\n",
    "\n",
    "#Perform K-means\n",
    "kmeans = KMeans(n_clusters=2)\n",
    "kmeans.fit(km_matrix)\n",
    "\n",
    "#Checking to see if it works\n",
    "labels = kmeans.labels_\n",
    "centroids = kmeans.cluster_centers_\n",
    "\n",
    "print(\"Labels:\", labels)\n",
    "print(\"Centroids:\", centroids)"
   ]
  },
  {
   "cell_type": "code",
   "execution_count": null,
   "metadata": {},
   "outputs": [],
   "source": [
    "from sklearn.mixture import GaussianMixture\n",
    "\n",
    "#Obtain word vector data\n",
    "gmm_matrix, dictionary, frequencies = create_lyric_matrix()\n",
    "\n",
    "#Perform GMM estimate\n",
    "gmm = GaussianMixture(n_components=2)\n",
    "gmm.fit(gmm_matrix)\n",
    "\n",
    "#Checking to see if it works\n",
    "labels = gmm.predict(gmm_matrix)\n",
    "means = gmm.means_\n",
    "covariances = gmm.covariances_\n",
    "\n",
    "print(\"Labels:\", labels)\n",
    "print(\"Means:\", means)\n",
    "print(\"Covariances:\", covariances)"
   ]
  },
  {
   "cell_type": "code",
   "execution_count": null,
   "metadata": {},
   "outputs": [],
   "source": [
    "from sklearn.cluster import DBSCAN\n",
    "\n",
    "#Obtain data from create_lyric_matrix\n",
    "db_matrix, dictionary, frequencies = create_lyric_matrix()\n",
    "\n",
    "#Perform DBScan\n",
    "dbscan = DBSCAN(eps=3, min_samples=2)\n",
    "dbscan.fit(db_matrix)\n",
    "\n",
    "#Checking to see if it works\n",
    "labels = dbscan.labels_\n",
    "\n",
    "print(\"Labels:\", labels)"
   ]
  }
 ],
 "metadata": {
  "kernelspec": {
   "display_name": "Python 3",
   "language": "python",
   "name": "python3"
  },
  "language_info": {
   "codemirror_mode": {
    "name": "ipython",
    "version": 3
   },
   "file_extension": ".py",
   "mimetype": "text/x-python",
   "name": "python",
   "nbconvert_exporter": "python",
   "pygments_lexer": "ipython3",
   "version": "3.11.4"
  },
  "orig_nbformat": 4
 },
 "nbformat": 4,
 "nbformat_minor": 2
}
