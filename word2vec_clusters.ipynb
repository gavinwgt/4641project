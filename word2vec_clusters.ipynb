{
 "cells": [
  {
   "cell_type": "code",
   "execution_count": 1,
   "metadata": {},
   "outputs": [
    {
     "name": "stdout",
     "output_type": "stream",
     "text": [
      "Requirement already satisfied: gensim in c:\\users\\gavin\\appdata\\local\\packages\\pythonsoftwarefoundation.python.3.11_qbz5n2kfra8p0\\localcache\\local-packages\\python311\\site-packages (4.3.1)\n",
      "Requirement already satisfied: numpy>=1.18.5 in c:\\users\\gavin\\appdata\\local\\packages\\pythonsoftwarefoundation.python.3.11_qbz5n2kfra8p0\\localcache\\local-packages\\python311\\site-packages (from gensim) (1.25.0)\n",
      "Requirement already satisfied: scipy>=1.7.0 in c:\\users\\gavin\\appdata\\local\\packages\\pythonsoftwarefoundation.python.3.11_qbz5n2kfra8p0\\localcache\\local-packages\\python311\\site-packages (from gensim) (1.11.1)\n",
      "Requirement already satisfied: smart-open>=1.8.1 in c:\\users\\gavin\\appdata\\local\\packages\\pythonsoftwarefoundation.python.3.11_qbz5n2kfra8p0\\localcache\\local-packages\\python311\\site-packages (from gensim) (6.3.0)\n"
     ]
    }
   ],
   "source": [
    "!pip install gensim"
   ]
  },
  {
   "cell_type": "code",
   "execution_count": 2,
   "metadata": {},
   "outputs": [],
   "source": [
    "from gensim.models import KeyedVectors\n",
    "import os\n",
    "\n",
    "path = os.path.join('C:', os.sep, 'Users', 'Gavin', 'Downloads', 'CS4641', 'Project', 'GoogleNews-vectors-negative300.bin')\n",
    "\n",
    "# Load vectors directly from the file\n",
    "model = KeyedVectors.load_word2vec_format(path, binary=True)"
   ]
  },
  {
   "cell_type": "code",
   "execution_count": 38,
   "metadata": {},
   "outputs": [],
   "source": [
    "import string\n",
    "import numpy as np\n",
    "import hashlib\n",
    "from collections import defaultdict\n",
    "\n",
    "def create_lyric_matrix():\n",
    "    # Stop words to exclude\n",
    "    stop_words = ['i', 'id', 'me', 'my', 'myself', 'we', 'our', 'ours', 'ourselves', 'you', 'yall', 'yalls', \"youre\", \"youve\", \"youll\", \"youd\", 'your', 'yours', 'yourself', 'yourselves', 'he', 'hes', 'him', 'his', 'himself', 'she', \"shes\", 'her', 'hers', 'herself', 'it', 'its', 'itself', 'they', 'them', 'em', 'their', 'theirs', 'themselves', 'what', 'which', 'who', 'whom', 'this', 'that', \"thatll\", 'these', 'those', 'am', 'is', 'are', 'was', 'were', 'be', 'been', 'being', 'have', 'has', 'had', 'having', 'got', 'gotta', 'do', 'does', 'did', 'doing', 'a', 'an', 'the', 'and', 'but', 'if', 'or', 'because', 'because', 'as', 'until', 'til', 'while', 'of', 'at', 'by', 'for', 'with', 'about', 'bout', 'against', 'between', 'into', 'through', 'during', 'before', 'after', 'above', 'below', 'to', 'from', 'up', 'down', 'in', 'out', 'on', 'off', 'over', 'under', 'again', 'further', 'then', 'once', 'here', 'there', 'theres', 'when', 'where', 'why', 'how', 'all', 'any', 'both', 'each', 'few', 'more', 'most', 'other', 'some', 'such', 'no', 'nor', 'not', 'only', 'own', 'same', 'so', 'than', 'too', 'very', 'can', 'will', 'just', \"dont\", 'should', \"shouldve\", 'now', 'aint', 'arent', 'couldnt', \"didnt\", \"doesnt\", \"hadnt\", \"hasnt\", \"havent\", \"isnt\", \"mightnt\", \"mustnt\", \"neednt\", \"shant\", 'shouldnt']\n",
    "    nums = \"0123456789\"\n",
    "\n",
    "    directory = os.path.join('C:', os.sep, 'Users', 'Gavin', 'Downloads', 'CS4641', 'Project', '4641project', 'lyrics')\n",
    "\n",
    "    # Initialize a dictionary to store embed-vector to word mappings\n",
    "    lyric_embeddings = {}\n",
    "\n",
    "    # Empty array to add word vectors to\n",
    "    lyric_matrix = np.array([]).reshape(0,300)\n",
    "\n",
    "    # Dictionary for word frequency of each song (given by filename):\n",
    "    word_frequencies = {}\n",
    "\n",
    "    # Iterate over the files in the directory\n",
    "    iter = 0\n",
    "    for filename in os.listdir(directory):\n",
    "        if filename.endswith('.txt'):  # Consider only .txt files\n",
    "            file_path = os.path.join(directory, filename)\n",
    "            wordfreq = defaultdict(int)\n",
    "            # Read the text file\n",
    "            with open(file_path, 'r', encoding='utf-8') as file:\n",
    "                lines = file.readlines()\n",
    "            for line in lines[1:]:\n",
    "                # Cleaning up the data\n",
    "                if '[' in line or ']' in line:\n",
    "                    continue\n",
    "                if 'Embed' in line:\n",
    "                    line = line.replace('Embed', '')\n",
    "                    try:\n",
    "                        while line[-1] in nums:\n",
    "                            line = line.replace(line[-1], '')\n",
    "                    except IndexError:\n",
    "                        continue\n",
    "                line = line.replace(\"in'\", \"ing\")\n",
    "                translator = str.maketrans('', '', string.punctuation)\n",
    "                no_punctuation = line.translate(translator)\n",
    "                words = no_punctuation.strip().lower().split()\n",
    "                # Obtain vector and add to dictionaries: we will use this to obtain words from our clusters and frequencies\n",
    "                for word in words:\n",
    "                    if word not in stop_words and len(word) > 1:\n",
    "                        wordfreq[word] += 1\n",
    "                        if wordfreq[word] == 1:\n",
    "                            try:\n",
    "                                vector = model[word]\n",
    "                                lyric_matrix = np.vstack([lyric_matrix, vector])\n",
    "                                lyric_embeddings[iter] = word\n",
    "                                iter += 1\n",
    "                            except KeyError:\n",
    "                                continue\n",
    "            word_frequencies[file_path] = wordfreq\n",
    "    #Function returns the lyric dataset for clustering (NumPy array), a dictionary the maps words to their vector, and a dictionary to obtain word frequency\n",
    "    return lyric_matrix, lyric_embeddings, word_frequencies"
   ]
  },
  {
   "cell_type": "code",
   "execution_count": 4,
   "metadata": {},
   "outputs": [
    {
     "name": "stdout",
     "output_type": "stream",
     "text": [
      "Requirement already satisfied: scikit-learn in c:\\users\\gavin\\appdata\\local\\packages\\pythonsoftwarefoundation.python.3.11_qbz5n2kfra8p0\\localcache\\local-packages\\python311\\site-packages (1.3.0)\n",
      "Requirement already satisfied: numpy>=1.17.3 in c:\\users\\gavin\\appdata\\local\\packages\\pythonsoftwarefoundation.python.3.11_qbz5n2kfra8p0\\localcache\\local-packages\\python311\\site-packages (from scikit-learn) (1.25.0)\n",
      "Requirement already satisfied: scipy>=1.5.0 in c:\\users\\gavin\\appdata\\local\\packages\\pythonsoftwarefoundation.python.3.11_qbz5n2kfra8p0\\localcache\\local-packages\\python311\\site-packages (from scikit-learn) (1.11.1)\n",
      "Requirement already satisfied: joblib>=1.1.1 in c:\\users\\gavin\\appdata\\local\\packages\\pythonsoftwarefoundation.python.3.11_qbz5n2kfra8p0\\localcache\\local-packages\\python311\\site-packages (from scikit-learn) (1.3.1)\n",
      "Requirement already satisfied: threadpoolctl>=2.0.0 in c:\\users\\gavin\\appdata\\local\\packages\\pythonsoftwarefoundation.python.3.11_qbz5n2kfra8p0\\localcache\\local-packages\\python311\\site-packages (from scikit-learn) (3.1.0)\n"
     ]
    }
   ],
   "source": [
    "!pip install scikit-learn"
   ]
  },
  {
   "cell_type": "code",
   "execution_count": 5,
   "metadata": {},
   "outputs": [
    {
     "name": "stdout",
     "output_type": "stream",
     "text": [
      "Requirement already satisfied: nltk in c:\\users\\gavin\\appdata\\local\\packages\\pythonsoftwarefoundation.python.3.11_qbz5n2kfra8p0\\localcache\\local-packages\\python311\\site-packages (3.8.1)\n",
      "Requirement already satisfied: click in c:\\users\\gavin\\appdata\\local\\packages\\pythonsoftwarefoundation.python.3.11_qbz5n2kfra8p0\\localcache\\local-packages\\python311\\site-packages (from nltk) (8.1.3)\n",
      "Requirement already satisfied: joblib in c:\\users\\gavin\\appdata\\local\\packages\\pythonsoftwarefoundation.python.3.11_qbz5n2kfra8p0\\localcache\\local-packages\\python311\\site-packages (from nltk) (1.3.1)\n",
      "Requirement already satisfied: regex>=2021.8.3 in c:\\users\\gavin\\appdata\\local\\packages\\pythonsoftwarefoundation.python.3.11_qbz5n2kfra8p0\\localcache\\local-packages\\python311\\site-packages (from nltk) (2023.6.3)\n",
      "Requirement already satisfied: tqdm in c:\\users\\gavin\\appdata\\local\\packages\\pythonsoftwarefoundation.python.3.11_qbz5n2kfra8p0\\localcache\\local-packages\\python311\\site-packages (from nltk) (4.65.0)\n",
      "Requirement already satisfied: colorama in c:\\users\\gavin\\appdata\\local\\packages\\pythonsoftwarefoundation.python.3.11_qbz5n2kfra8p0\\localcache\\local-packages\\python311\\site-packages (from click->nltk) (0.4.6)\n"
     ]
    }
   ],
   "source": [
    "!pip install nltk"
   ]
  },
  {
   "cell_type": "code",
   "execution_count": 20,
   "metadata": {},
   "outputs": [
    {
     "name": "stdout",
     "output_type": "stream",
     "text": [
      "Collecting textblob\n",
      "  Downloading textblob-0.17.1-py2.py3-none-any.whl (636 kB)\n",
      "                                              0.0/636.8 kB ? eta -:--:--\n",
      "     ------------------                     307.2/636.8 kB 9.6 MB/s eta 0:00:01\n",
      "     -------------------------------------- 636.8/636.8 kB 8.0 MB/s eta 0:00:00\n",
      "Requirement already satisfied: nltk>=3.1 in c:\\users\\gavin\\appdata\\local\\packages\\pythonsoftwarefoundation.python.3.11_qbz5n2kfra8p0\\localcache\\local-packages\\python311\\site-packages (from textblob) (3.8.1)\n",
      "Requirement already satisfied: click in c:\\users\\gavin\\appdata\\local\\packages\\pythonsoftwarefoundation.python.3.11_qbz5n2kfra8p0\\localcache\\local-packages\\python311\\site-packages (from nltk>=3.1->textblob) (8.1.3)\n",
      "Requirement already satisfied: joblib in c:\\users\\gavin\\appdata\\local\\packages\\pythonsoftwarefoundation.python.3.11_qbz5n2kfra8p0\\localcache\\local-packages\\python311\\site-packages (from nltk>=3.1->textblob) (1.3.1)\n",
      "Requirement already satisfied: regex>=2021.8.3 in c:\\users\\gavin\\appdata\\local\\packages\\pythonsoftwarefoundation.python.3.11_qbz5n2kfra8p0\\localcache\\local-packages\\python311\\site-packages (from nltk>=3.1->textblob) (2023.6.3)\n",
      "Requirement already satisfied: tqdm in c:\\users\\gavin\\appdata\\local\\packages\\pythonsoftwarefoundation.python.3.11_qbz5n2kfra8p0\\localcache\\local-packages\\python311\\site-packages (from nltk>=3.1->textblob) (4.65.0)\n",
      "Requirement already satisfied: colorama in c:\\users\\gavin\\appdata\\local\\packages\\pythonsoftwarefoundation.python.3.11_qbz5n2kfra8p0\\localcache\\local-packages\\python311\\site-packages (from click->nltk>=3.1->textblob) (0.4.6)\n",
      "Installing collected packages: textblob\n",
      "Successfully installed textblob-0.17.1\n"
     ]
    }
   ],
   "source": [
    "!pip install textblob"
   ]
  },
  {
   "cell_type": "code",
   "execution_count": 42,
   "metadata": {},
   "outputs": [
    {
     "name": "stderr",
     "output_type": "stream",
     "text": [
      "[nltk_data] Downloading package vader_lexicon to\n",
      "[nltk_data]     C:\\Users\\Gavin\\AppData\\Roaming\\nltk_data...\n",
      "[nltk_data]   Package vader_lexicon is already up-to-date!\n",
      "[nltk_data] Downloading package sentiwordnet to\n",
      "[nltk_data]     C:\\Users\\Gavin\\AppData\\Roaming\\nltk_data...\n",
      "[nltk_data]   Package sentiwordnet is already up-to-date!\n",
      "[nltk_data] Downloading package wordnet to\n",
      "[nltk_data]     C:\\Users\\Gavin\\AppData\\Roaming\\nltk_data...\n",
      "[nltk_data]   Package wordnet is already up-to-date!\n",
      "C:\\Users\\Gavin\\AppData\\Local\\Packages\\PythonSoftwareFoundation.Python.3.11_qbz5n2kfra8p0\\LocalCache\\local-packages\\Python311\\site-packages\\sklearn\\cluster\\_kmeans.py:1412: FutureWarning: The default value of `n_init` will change from 10 to 'auto' in 1.4. Set the value of `n_init` explicitly to suppress the warning\n",
      "  super()._check_params_vs_input(X, default_n_init=10)\n"
     ]
    },
    {
     "name": "stdout",
     "output_type": "stream",
     "text": [
      "[[1041  830]\n",
      " [ 147  146]]\n",
      "['buddies', 'yeah', 'yea', 'high', 'know', 'say', 'thank', 'god', 'true', 'due', 'like', 'old', 'well', 'live', 'yeah', 'find', 'high', 'webs', 'hand', 'mind', 'senses', 'save', 'friends', 'wish', 'blend', 'different', 'like', 'many', 'fast', 'catching', 'feeling', 'know', 'right', 'feel', 'ive', 'dreaming', 'like', 'feeling', 'much', 'thankful', 'favorite', 'kind', 'chance', 'kiss', 'mama', 'read', 'concrete', 'focused', 'crib', 'laughing', 'joke', 'fly', 'rich', 'friends', 'love', 'know', 'find', 'great', 'good', 'really', 'wish', 'could', 'win', 'watcher', 'love', 'hey', 'booboo', 'much', 'complexity', 'momma', 'really', 'say', 'yes', 'geeked', 'well', 'please', 'play', 'truthfully', 'slap', 'hope', 'fly', 'better', 'like', 'practice', 'know', 'bust', 'pray', 'make', 'whole', 'right', 'dash', 'boy', 'higher', 'crack', 'familiar', 'kind', 'big', 'yeah', 'senses', 'yeah', 'existent', 'wide', 'spark', 'new', 'ferrari', 'web', 'hero', 'opp', 'arachnophobia', 'ive', 'since', 'flicked', 'itsy', 'bitsy', 'theyve', 'tryna', 'focused', 'golden', 'stronger', 'vision', 'top', 'keeping', 'eyes', 'know', 'okay', 'bounce', 'set', 'straight', 'hot', 'whole', 'boosting', 'lobby', 'welcome', 'older', 'wiser', 'vices', 'old', 'dreaming', 'agrees', 'directly', 'must', 'feel', 'like', 'sexy', 'big', 'favorite', 'narcissism', 'altruism', 'kind', 'dream', 'reads', 'laughing', 'yeah', 'know', 'love', 'motherfucking', 'boy', 'like', 'bae', 'well', 'busy', 'okay', 'hope', 'good', 'treat', 'fine', 'thank', 'favorite', 'different', 'everywhere', 'lo', 'big', 'pimping', 'say', 'play', 'calm', 'god', 'tweaking', 'vato', 'clean', 'dreams', 'make', 'like', 'high', 'feel', 'love', 'yeah', 'live', 'giving', 'kisses', 'know', 'stronger', 'looking', 'good', 'feel', 'would', 'well', 'find', 'love', 'thethe', 'boys', 'boy', 'say', 'thinking', 'fun', 'haha', 'like', 'know', 'yeah', 'much', 'real', 'say', 'know', 'right', 'boys', 'solid', 'honest', 'love', 'bro', 'profits', 'hustled', 'speaking', 'peeping', 'boy', 'thats', 'like', 'clearly', 'believe', 'really', 'snatched', 'find', 'understand', 'agree', 'trust', 'prepared', 'shine', 'buddy', 'gon', 'hot', 'many', 'hand', 'welcome', 'ready', 'yet', 'thats', 'peace', 'yeah', 'care', 'many', 'reads', 'woo', 'already', 'know', 'whats', 'right', 'save', 'yeah', 'times', 'love', 'high', 'know', 'truth', 'materialistic', 'treat', 'like', 'hero', 'bust', 'rose', 'hope', 'proud', 'lowkey', 'trust', 'okay', 'feel', 'im', 'rules', 'know', 'party', 'ready', 'make', 'woo', 'tryna', 'find', 'save', 'set', 'right', 'warm', 'smile', 'whole', 'live', 'rise', 'rodeo', 'love', 'like', 'hand', 'thеm', 'giddyup', 'good', 'fine', 'yeah', 'kisses', 'kind', 'loving', 'make', 'yeah', 'dream', 'high', 'know', 'right', 'boy', 'shiny', 'eyes', 'makes', 'new', 'feeling', 'cool', 'rules', 'heaven', 'glow', 'say', 'well', 'times', 'like', 'fine', 'true', 'wanna', 'snuck', 'worth', 'love', 'grinning', 'good', 'know', 'yeah', 'aw', 'sweep', 'sets', 'right', 'play', 'feel', 'like', 'woo', 'know', 'care', 'lust', 'share', 'pride', 'love', 'mercy', 'find', 'im', 'light', 'please', 'forgiveness', 'im', 'promised', 'forget', 'honest', 'proud', 'know', 'like', 'thought', 'charming', 'well', 'thank', 'faith', 'praise', 'kiss', 'know', 'idea', 'help', 'thought', 'dear', 'friends', 'different', 'feel', 'thе', 'eyes', 'everywhere', 'right', 'friend', 'yeah', 'ready', 'unfolds', 'truth', 'already', 'fast', 'make', 'together', 'better', 'well', 'convenience', 'managed', 'save', 'far', 'old', 'live', 'like', 'mama', 'wanted', 'care', 'fly', 'nice', 'feeling', 'entertain', 'know', 'find', 'promoted', 'buy', 'bigger', 'friends', 'hoped', 'thought', 'would', 'make', 'like', 'darling', 'well', 'yeah', 'right', 'favorite', 'say', 'good', 'without', 'better', 'looking', 'scoop', 'dates', 'beautiful', 'love', 'peace', 'uh', 'help', 'feeling', 'thinking', 'sure', 'okay', 'good', 'feelings', 'fine', 'really', 'know', 'exactly', 'feel', 'whats', 'many', 'brighter', 'play', 'feeling', 'right', 'smile', 'love', 'yeah', 'like', 'good', 'dream', 'right', 'watched', 'buy', 'say', 'understand', 'hand', 'yeah', 'love', 'better', 'forgive', 'love', 'like', 'say', 'right', 'know', 'plays', 'friends', 'different', 'easy', 'freedom', 'feelings', 'yeah', 'find', 'trace', 'make', 'sense', 'loved', 'crease', 'eyes', 'main', 'dreams', 'belief', 'good', 'believed', 'antithetical', 'dream', 'okay', 'light', 'pal', 'like', 'know', 'thats', 'feelings', 'love', 'strong', 'forget', 'backing', 'old', 'truck', 'find', 'yeah', 'right', 'clean', 'looking', 'says', 'different', 'heaven', 'read', 'straight', 'say', 'thats', 'good', 'loved', 'everything', 'knows', 'like', 'im', 'good', 'yeah', 'feeling', 'alright', 'best', 'know', 'finer', 'vip', 'care', 'welcome', 'yeah', 'feels', 'better', 'forget', 'feeling', 'know', 'apart', 'first', 'agreed', 'friends', 'like', 'find', 'makes', 'sense', 'feel', 'worth', 'say', 'love', 'buy', 'favorite', 'kiss', 'mind', 'first', 'care', 'stronger', 'friend', 'yeah', 'forgets', 'make', 'feel', 'like', 'know', 'wanna', 'know', 'much', 'older', 'big', 'like', 'willing', 'far', 'say', 'easy', 'new', 'mind', 'faded', 'im', 'fan', 'salty', 'broad', 'know', 'happy', 'mature', 'best', 'idea', 'new', 'love', 'jail', 'sense', 'really', 'passion', 'reach', 'perfect', 'wish', 'yet', 'kiss', 'make', 'yeah', 'know', 'love', 'say', 'wanting', 'called', 'momma', 'right', 'friends', 'kind', 'much', 'slammed', 'really', 'kiss', 'standing', 'like', 'make', 'sparkle', 'eyes', 'true', 'love', 'know', 'perfect', 'well', 'say', 'much', 'feel', 'would', 'yeah', 'playing', 'like', 'keeping', 'dora', 'galore', 'know', 'sweet', 'different', 'named', 'solid', 'make', 'sure', 'truck', 'full', 'popular', 'much', 'thinking', 'high', 'fragrance', 'forget', 'famous', 'could', 'buy', 'good', 'new', 'like', 'fresh', 'shine', 'light', 'yeah', 'well', 'live', 'spend', 'thinking', 'paradise', 'feeling', 'eyes', 'wonder', 'loving', 'beautiful', 'happily', 'high', 'lover', 'kiss', 'looking', 'forget', 'much', 'care', 'yeah', 'know', 'escape', 'find', 'feels', 'free', 'like', 'peace', 'mind', 'make', 'sure', 'okay', 'love', 'higher', 'feel', 'glow', 'together', 'wanna', 'thought', 'strong', 'god', 'say', 'fit', 'spent', 'friends', 'free', 'party', 'high', 'pretty', 'cool', 'easy', 'nice', 'wish', 'know', 'much', 'god', 'favor', 'pray', 'know', 'amazing', 'grace', 'spend', 'say', 'fold', 'yeah', 'barely', 'like', 'hail', 'know', 'laughing', 'buddies', 'old', 'new', 'like', 'spend', 'jewelry', 'mamas', 'praying', 'say', 'best', 'honeymoon', 'really', 'test', 'standing', 'yes', 'excited', 'funny', 'called', 'first', 'dates', 'wondering', 'far', 'amazing', 'fast', 'love', 'full', 'chance', 'forget', 'friendly', 'nah', 'like', 'randy', 'full', 'high', 'today', 'feel', 'say', 'love', 'make', 'sure', 'good', 'real', 'new', 'todays', 'big', 'eyes', 'know', 'touching', 'barely', 'thank', 'appreciate', 'yeah', 'haha', 'temptations', 'hustled', 'far', 'hand', 'know', 'better', 'say', 'right', 'mind', 'solve', 'help', 'kiss', 'loving', 'hey', 'aw', 'yeah', 'bang', 'ive', 'eyes', 'know', 'smile', 'well', 'really', 'fo', 'say', 'make', 'understand', 'yeah', 'know', 'top', 'looking', 'opps', 'test', 'spent', 'okay', 'like', 'make', 'wanna', 'good', 'thinking', 'first', 'riches', 'delicious', 'looking', 'playing', 'yeah', 'new', 'pappy', 'many', 'know', 'best', 'like', 'sexy', 'say', 'cheating', 'love', 'pretty', 'pimping', 'oop', 'plus', 'looking', 'happy', 'wanted', 'would', 'care', 'yeah', 'share', 'real', 'bright', 'light', 'feel', 'like', 'believed', 'praying', 'play', 'thought', 'happier', 'friends', 'know', 'truth', 'good', 'mamas', 'healthy', 'helping', 'whole', 'god', 'kind', 'forgiven', 'yet', 'kiss', 'like', 'kissing', 'different', 'together', 'something', 'makes', 'better', 'much', 'save', 'spent', 'say', 'health', 'help', 'feel', 'like', 'sets', 'free', 'hopes', 'dreams', 'wishing', 'peace', 'yeah', 'patient', 'famous', 'know', 'im', 'pitbull', 'holiday', 'say', 'whats', 'mind', 'rescue', 'woah', 'far', 'happy', 'okay', 'fair', 'yep', 'really', 'love', 'like', 'god', 'test', 'boy', 'consistent', 'yeah', 'love', 'really', 'much', 'thoughts', 'high', 'please', 'know', 'truth', 'trust', 'big', 'dreams', 'impressionable', 'scheme', 'friends', 'new', 'beamers', 'top', 'say', 'well', 'first', 'right', 'yeah', 'hot', 'know', 'make', 'drought', 'much', 'say', 'yeah', 'love', 'play', 'like', 'friend', 'buddy', 'favorite', 'say', 'sexy', 'big', 'energy', 'believe', 'feel', 'gon', 'please', 'care', 'bust', 'masturbate', 'promise', 'quick', 'real', 'make', 'fatter', 'wanna', 'magic', 'know', 'times', 'im', 'dreaming', 'right', 'truth', 'better', 'important', 'like', 'droptop', 'feel', 'main', 'nonviolent', 'yet', 'magic', 'yeah', 'smash', 'fine', 'light', 'mind', 'know', 'much', 'say', 'eyes', 'trembles', 'today', 'please', 'love', 'like', 'treat', 'friend', 'respect', 'lover', 'yeah', 'joker', 'checked', 'shine', 'faith', 'pretty', 'hand', 'sure', 'fighter', 'lyric', 'prize', 'winner', 'deserve', 'say', 'real', 'mama', 'im', 'okay', 'know', 'right', 'thought', 'eyes', 'make', 'feels', 'like', 'yeah', 'dash', 'sure', 'forgive', 'old', 'top', 'smile', 'makes', 'forget', 'better', 'win', 'forgiveness', 'love', 'giving', 'saved', 'hand', 'know', 'worth', 'god', 'thank', 'perfectly', 'loved', 'yeah', 'thought', 'find', 'boy', 'heaven', 'eyes', 'say', 'right', 'buy', 'much', 'big', 'free', 'mind', 'im', 'yeah', 'playing', 'good', 'know', 'like', 'near', 'normal', 'hot', 'please', 'live', 'dot', 'possess', 'feeling', 'ironic', 'cool', 'famous', 'elevate', 'respect', 'sexy', 'new', 'devotions', 'huh', 'keeping', 'focus', 'wow', 'emotions', 'aroused', 'say', 'hoping', 'love', 'know', 'boy', 'feel', 'mind', 'thinking', 'eyes', 'wish', 'truck', 'like', 'yeah', 'mama', 'something', 'dawned', 'god', 'knows', 'im', 'much', 'yeah', 'know', 'thought', 'new', 'proud', 'believe', 'called', 'really', 'like', 'truck', 'say', 'deserve', 'yeah', 'okay', 'live', 'believe', 'eyes', 'like', 'yes', 'really', 'ha', 'trust', 'safe', 'eyes', 'far', 'know', 'say', 'light', 'love', 'alive', 'yeah', 'like', 'well', 'laugh', 'minds', 'weve', 'better', 'know', 'right', 'yeah', 'live', 'like', 'cares', 'care', 'make', 'perfect', 'know', 'love', 'determined', 'yeah', 'yeah', 'like', 'makes', 'stronger', 'im', 'feel', 'truth', 'looking', 'must', 'faded', 'straight', 'yeah', 'eyes', 'hot', 'drops', 'far', 'say', 'sweet', 'strong', 'already', 'know', 'find', 'first', 'know', 'keeping', 'playing', 'love', 'far', 'finds', 'say']\n",
      "['thick', 'shit', 'since', 'hate', 'miss', 'pinch', 'piss', 'cold', 'die', 'hide', 'flaw', 'fault', 'tricky', 'tingling', 'pretend', 'low', 'revengeful', 'highperformance', 'venom', 'stuck', 'swear', 'vibe', 'catch', 'bad', 'usually', 'fighting', 'lost', 'beaten', 'lacing', 'jungle', 'bad', 'poor', 'broke', 'lose', 'everything', 'everyones', 'want', 'might', 'afraid', 'death', 'wrong', 'problem', 'stink', 'fuck', 'troubling', 'puzzling', 'choosy', 'violence', 'universal', 'lying', 'rap', 'fail', 'honorary', 'stressed', 'weak', 'want', 'wants', 'trap', 'bad', 'grind', 'demand', 'soon', 'kill', 'another', 'fear', 'nonexistent', 'afraid', 'creepy', 'crawler', 'black', 'widow', 'persistent', 'game', 'global', 'enemy', 'smart', 'heart', 'evil', 'dark', 'opponents', 'defeat', 'shake', 'block', 'enemies', 'ill', 'never', 'stop', 'talking', 'swear', 'shoot', 'miss', 'unbelievable', 'never', 'depression', 'graveyard', 'crisis', 'screaming', 'ill', 'tired', 'problem', 'exhausting', 'slowly', 'lurching', 'toward', 'heart', 'killed', 'disguise', 'lose', 'kills', 'round', 'screams', 'hell', 'trick', 'little', 'damn', 'fuck', 'matter', 'stack', 'hell', 'might', 'drop', 'fucking', 'bitch', 'bros', 'trap', 'nah', 'dirt', 'swear', 'hard', 'niggas', 'want', 'dirty', 'scream', 'degree', 'hurts', 'uh', 'hurt', 'talk', 'behind', 'dive', 'limits', 'finish', 'drunk', 'ghost', 'lies', 'killing', 'slowly', 'heart', 'want', 'im', 'fear', 'ugly', 'disappear', 'whats', 'crying', 'never', 'liar', 'shit', 'huh', 'damn', 'mean', 'sneaky', 'kill', 'dead', 'talk', 'lost', 'mad', 'bad', 'dark', 'fuck', 'never', 'fucked', 'niggas', 'lied', 'damn', 'gave', 'mе', 'shit', 'grind', 'long', 'bottom', 'problems', 'chat', 'talking', 'rap', 'kite', 'wrong', 'dodge', 'hard', 'sneaky', 'chill', 'want', 'given', 'sick', 'devil', 'round', 'bit', 'past', 'die', 'graveyard', 'red', 'dirt', 'hell', 'leave', 'funky', 'screaming', 'fault', 'tough', 'hurts', 'flaws', 'risk', 'never', 'falling', 'tears', 'hate', 'cry', 'ill', 'hard', 'obstacle', 'stuck', 'bottom', 'gave', 'number', 'heart', 'robbery', 'splurge', 'hardly', 'sorry', 'catch', 'young', 'drop', 'round', 'leave', 'fucked', 'fighting', 'sorry', 'fuck', 'late', 'mistakes', 'fire', 'cutting', 'pasture', 'falling', 'leave', 'cold', 'heart', 'cut', 'buck', 'wild', 'little', 'bit', 'outlaw', 'trouble', 'ill', 'long', 'never', 'gonna', 'lonely', 'ghost', 'hate', 'miss', 'broken', 'gun', 'guess', 'thats', 'want', 'bad', 'killing', 'slow', 'devils', 'kill', 'cruel', 'thats', 'breakable', 'low', 'dying', 'screw', 'cut', 'bone', 'drunk', 'cried', 'secrets', 'scream', 'worst', 'devil', 'never', 'cut', 'little', 'loose', 'ill', 'low', 'beams', 'red', 'dirt', 'backbeat', 'wanna', 'round', 'pasture', 'stop', 'burden', 'atone', 'lone', 'guilt', 'darkness', 'hate', 'poison', 'hiding', 'sins', 'might', 'leave', 'raining', 'drunk', 'fault', 'half', 'doubt', 'shame', 'young', 'alone', 'gave', 'emergency', 'cops', 'wrong', 'ill', 'die', 'alarming', 'bedridden', 'pain', 'tone', 'rot', 'burnouts', 'swear', 'danger', 'fuck', 'bad', 'might', 'tears', 'somewhere', 'else', 'little', 'bit', 'hard', 'heavy', 'closed', 'slow', 'ill', 'soon', 'guess', 'could', 'pretend', 'lost', 'missing', 'want', 'somewhere', 'lose', 'little', 'bit', 'problem', 'young', 'leave', 'die', 'drunk', 'ill', 'late', 'nowhere', 'might', 'heart', 'nowhere', 'hiding', 'hate', 'want', 'talk', 'mean', 'everyday', 'lonely', 'tired', 'hurt', 'pain', 'cheat', 'damn', 'hiding', 'pretending', 'pain', 'heart', 'young', 'long', 'lost', 'dark', 'wanna', 'broken', 'lies', 'hurting', 'fight', 'never', 'cry', 'low', 'might', 'burn', 'leave', 'cry', 'talk', 'remorse', 'regret', 'fight', 'never', 'uh', 'washed', 'mess', 'never', 'wrong', 'shit', 'catastrophic', 'ghost', 'asshole', 'outlaw', 'heart', 'hurts', 'cry', 'sadness', 'contagious', 'stopped', 'cried', 'hat', 'another', 'metaphor', 'kill', 'argumentative', 'might', 'cold', 'never', 'unsee', 'unconditional', 'long', 'beating', 'bunch', 'catch', 'hogs', 'strike', 'talk', 'little', 'fight', 'damn', 'red', 'never', 'low', 'might', 'fucking', 'matter', 'ill', 'stop', 'heart', 'leave', 'ill', 'delete', 'less', 'red', 'lost', 'pissed', 'matters', 'single', 'bad', 'little', 'might', 'miss', 'never', 'talk', 'long', 'wrong', 'never', 'sorry', 'ive', 'shame', 'hell', 'jaded', 'lonely', 'hate', 'blurry', 'stop', 'dark', 'worried', 'hurts', 'fucking', 'broke', 'heart', 'ill', 'number', 'torn', 'hate', 'want', 'might', 'kill', 'alone', 'lost', 'murders', 'crime', 'damn', 'peach', 'sober', 'ass', 'killed', 'hell', 'talk', 'never', 'talking', 'fight', 'shit', 'mean', 'hell', 'wouldnt', 'shattered', 'least', 'leave', 'heart', 'risk', 'could', 'wrong', 'guess', 'im', 'shit', 'immunity', 'nah', 'victim', 'ruin', 'im', 'outdo', 'serious', 'morals', 'young', 'bitches', 'emergency', 'niggas', 'kill', 'tired', 'knowing', 'leave', 'low', 'savages', 'round', 'sick', 'stop', 'hell', 'ima', 'stopping', 'fuck', 'bitch', 'lazy', 'outrageous', 'sending', 'flagrant', 'little', 'might', 'lost', 'drunk', 'never', 'miss', 'usual', 'small', 'talk', 'level', 'hell', 'im', 'stress', 'priority', 'leave', 'behind', 'nowhere', 'sober', 'killing', 'mourning', 'warning', 'shit', 'drag', 'shoot', 'damn', 'talking', 'little', 'problem', 'lying', 'talk', 'hell', 'swear', 'drunk', 'ass', 'hard', 'ill', 'pay', 'lose', 'hеr', 'swear', 'single', 'never', 'sunburnt', 'crying', 'half', 'scared', 'death', 'hat', 'slow', 'chilling', 'bitch', 'mean', 'shoot', 'fuck', 'leave', 'might', 'want', 'demand', 'lil', 'savage', 'demon', 'stupid', 'stop', 'niggas', 'hood', 'blew', 'hide', 'wet', 'catch', 'shit', 'busting', 'fire', 'starving', 'struggling', 'another', 'subject', 'bitches', 'thugging', 'cry', 'wan', 'burn', 'fighting', 'humbled', 'global', 'sensation', 'counted', 'buck', 'sober', 'options', 'burn', 'number', 'never', 'want', 'long', 'heart', 'hate', 'problems', 'ill', 'thе', 'stop', 'wrong', 'past', 'red', 'paranoia', 'never', 'grave', 'leave', 'yahoo', 'bitches', 'busting', 'tight', 'another', 'shorty', 'catch', 'bottom', 'broke', 'want', 'ignoring', 'long', 'bitch', 'missing', 'sheesh', 'heavy', 'fuck', 'niggas', 'pink', 'brown', 'suck', 'bitch', 'dick', 'bitches', 'tryna', 'scratched', 'stretched', 'dread', 'shit', 'lil', 'bad', 'suki', 'nut', 'tits', 'red', 'pussy', 'pinky', 'want', 'fits', 'talking', 'chicken', 'jerk', 'choke', 'guess', 'motherfucking', 'dms', 'guess', 'couple', 'tears', 'cold', 'stop', 'hurt', 'lately', 'little', 'mean', 'hard', 'hell', 'lose', 'missing', 'broke', 'damn', 'talking', 'hard', 'red', 'mistakes', 'tears', 'lost', 'exhausted', 'hells', 'shit', 'mends', 'long', 'hell', 'bad', 'hopeless', 'broken', 'lost', 'waste', 'damaged', 'shattered', 'missing', 'sorrows', 'ill', 'trap', 'chat', 'confess', 'damage', 'could', 'nah', 'damn', 'talking', 'talk', 'missing', 'opposition', 'fucked', 'long', 'small', 'cry', 'stop', 'doubting', 'hurting', 'screams', 'hate', 'questionable', 'drop', 'fire', 'shake', 'bitch', 'bitches', 'broke', 'ass', 'dick', 'baddie', 'catch', 'shit', 'matter', 'weird', 'fuck', 'suck', 'dick', 'ugly', 'mean', 'slut', 'ass', 'pink', 'game', 'nut', 'die', 'sucked', 'vegan', 'little', 'matter', 'trick', 'ill', 'fire', 'kill', 'bitch', 'scared', 'long', 'hide', 'problem', 'lose', 'snooze', 'miss', 'argument', 'shit', 'nasty', 'hard', 'blame', 'lying', 'threatening', 'leave', 'crying', 'nah', 'young', 'crazy', 'damned', 'miss', 'hell', 'poisoned', 'never', 'leave', 'ill', 'hate', 'never', 'ill', 'talk', 'falling', 'little', 'die', 'plain', 'fire', 'pretend', 'hell', 'worry', 'wrong', 'never', 'cry', 'sin', 'wore', 'hat', 'game', 'rocky', 'red', 'want', 'dawgs', 'lost', 'gave', 'crazy', 'fits', 'never', 'hard', 'stop', 'swear', 'fuck', 'excuse', 'talk', 'crazy', 'irregular', 'damn', 'want', 'might', 'critics', 'lost', 'fear', 'mean', 'niggas', 'wear', 'matter', 'fucked', 'round', 'wouldnt', 'worried', 'upset', 'hell', 'depressed', 'never', 'gave', 'foreign', 'heart', 'personality', 'hard', 'twat', 'ill', 'bad', 'hell', 'gon', 'burnt', 'long', 'missing', 'crazy', 'hide', 'wants', 'somewhere', 'damn', 'bad', 'worrying', 'losing', 'wasted', 'want', 'damn', 'mean', 'dumb', 'shit', 'long', 'sorry', 'late', 'miss', 'wrong', 'damn', 'guess', 'drunk', 'never', 'bloodshot', 'empty', 'dead', 'wreck', 'fucking', 'birds', 'catch', 'least', 'hurt', 'everythings', 'worse', 'bloodshot', 'somewhere', 'else', 'mean', 'hiding', 'scared', 'fight', 'want', 'behind', 'fire', 'burn', 'talk', 'cry', 'leave', 'alone', 'fucking', 'shit', 'lazy', 'cry', 'never', 'forfeit', 'talk', 'couple', 'fire', 'misread', 'stressed', 'headstrong', 'kill', 'fake', 'drowns', 'cut', 'hard', 'never', 'matter', 'wrong', 'long', 'fault', 'bottom', 'fire', 'black', 'dark', 'missed', 'little', 'talking', 'dirty', 'red', 'honky', 'tonk', 'little', 'heart', 'fire', 'behind', 'matter', 'alone', 'missing', 'wе', 'swear']\n"
     ]
    }
   ],
   "source": [
    "from sklearn.cluster import KMeans\n",
    "from textblob import TextBlob\n",
    "from sklearn.cluster import KMeans\n",
    "import nltk\n",
    "nltk.download('vader_lexicon')\n",
    "from nltk.sentiment import SentimentIntensityAnalyzer\n",
    "from nltk.corpus import sentiwordnet as swn\n",
    "nltk.download('sentiwordnet')\n",
    "nltk.download('wordnet')\n",
    "\n",
    "#Obtain word vector data\n",
    "km_matrix, dictionary, frequencies = create_lyric_matrix()\n",
    "\n",
    "#Ground truth\n",
    "ground_truth = []\n",
    "\n",
    "#Lines to exclude from matrix, as we couldn't find a sentiment value for the individual word\n",
    "exclude_lines = []\n",
    "\n",
    "sia = SentimentIntensityAnalyzer()\n",
    "\n",
    "c0_words = []\n",
    "c1_words = []\n",
    "\n",
    "iter = 0\n",
    "for row in km_matrix:\n",
    "    word = dictionary[iter]\n",
    "    blob = TextBlob(word)\n",
    "    blob_sent = blob.sentiment.polarity\n",
    "    synset = list(swn.senti_synsets(word))\n",
    "    if synset:\n",
    "        swn_sent = synset[0].pos_score() - synset[0].neg_score()\n",
    "    vader_sent = sia.polarity_scores(word)['compound']\n",
    "    sents = np.array([blob_sent, swn_sent, vader_sent])\n",
    "    if sents.sum() == 0:\n",
    "        exclude_lines.append(iter)\n",
    "        iter += 1\n",
    "        continue\n",
    "    avg_sent = sents.sum() / np.absolute(np.sign(sents)).sum()\n",
    "    if avg_sent >= 0:\n",
    "        ground_truth.append(0)\n",
    "        c0_words.append(word)\n",
    "    else:\n",
    "        ground_truth.append(1)\n",
    "        c1_words.append(word)\n",
    "    iter += 1\n",
    "\n",
    "#Perform K-means\n",
    "kmeans = KMeans(n_clusters=2)\n",
    "kmeans.fit(km_matrix)\n",
    "\n",
    "#Checking to see if it works\n",
    "labels = kmeans.labels_\n",
    "centroids = kmeans.cluster_centers_\n",
    "\n",
    "pred_labels = np.delete(labels, exclude_lines)\n",
    "ground_truth = np.array(ground_truth)\n",
    "\n",
    "#Precision, recall, F-measure\n",
    "conf_matrix = np.array([[0, 0], [0, 0]])\n",
    "for i in range(ground_truth.shape[0]):\n",
    "    conf_matrix[pred_labels[i]][ground_truth[i]] += 1\n",
    "\n",
    "print(conf_matrix)\n",
    "\n",
    "print(c0_words)\n",
    "print(c1_words)\n",
    "\n",
    "#DB index"
   ]
  },
  {
   "cell_type": "code",
   "execution_count": null,
   "metadata": {},
   "outputs": [],
   "source": [
    "from sklearn.mixture import GaussianMixture\n",
    "\n",
    "#Obtain word vector data\n",
    "gmm_matrix, dictionary, frequencies = create_lyric_matrix()\n",
    "\n",
    "#Perform GMM estimate\n",
    "gmm = GaussianMixture(n_components=2)\n",
    "gmm.fit(gmm_matrix)\n",
    "\n",
    "#Checking to see if it works\n",
    "labels = gmm.predict(gmm_matrix)\n",
    "means = gmm.means_\n",
    "covariances = gmm.covariances_\n",
    "\n",
    "print(\"Labels:\", labels)\n",
    "print(\"Means:\", means)\n",
    "print(\"Covariances:\", covariances)"
   ]
  },
  {
   "cell_type": "code",
   "execution_count": null,
   "metadata": {},
   "outputs": [],
   "source": [
    "from sklearn.cluster import DBSCAN\n",
    "\n",
    "#Obtain data from create_lyric_matrix\n",
    "db_matrix, dictionary, frequencies = create_lyric_matrix()\n",
    "\n",
    "#Perform DBScan\n",
    "dbscan = DBSCAN(eps=3, min_samples=2)\n",
    "dbscan.fit(db_matrix)\n",
    "\n",
    "#Checking to see if it works\n",
    "labels = dbscan.labels_\n",
    "\n",
    "print(\"Labels:\", labels)"
   ]
  }
 ],
 "metadata": {
  "kernelspec": {
   "display_name": "Python 3",
   "language": "python",
   "name": "python3"
  },
  "language_info": {
   "codemirror_mode": {
    "name": "ipython",
    "version": 3
   },
   "file_extension": ".py",
   "mimetype": "text/x-python",
   "name": "python",
   "nbconvert_exporter": "python",
   "pygments_lexer": "ipython3",
   "version": "3.11.4"
  },
  "orig_nbformat": 4
 },
 "nbformat": 4,
 "nbformat_minor": 2
}
